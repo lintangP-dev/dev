{
  "nbformat": 4,
  "nbformat_minor": 0,
  "metadata": {
    "colab": {
      "provenance": [],
      "authorship_tag": "ABX9TyNSelF3HIeKYJNVawpMkwPF",
      "include_colab_link": true
    },
    "kernelspec": {
      "name": "python3",
      "display_name": "Python 3"
    },
    "language_info": {
      "name": "python"
    }
  },
  "cells": [
    {
      "cell_type": "markdown",
      "metadata": {
        "id": "view-in-github",
        "colab_type": "text"
      },
      "source": [
        "<a href=\"https://colab.research.google.com/github/lintangP-dev/dev/blob/main/python-application/Untitled19.ipynb\" target=\"_parent\"><img src=\"https://colab.research.google.com/assets/colab-badge.svg\" alt=\"Open In Colab\"/></a>"
      ]
    },
    {
      "cell_type": "markdown",
      "source": [
        "Create a Simple Python Data Processing Application"
      ],
      "metadata": {
        "id": "n8Zy6cQVg0YO"
      }
    },
    {
      "cell_type": "code",
      "source": [
        "# MEMBUAT APLIKAS PENGOLAH DATA SEDERHANA\n",
        "\n",
        "data = {}\n",
        "#Aplikasi ini menggunakan fitur seperti\n",
        "# Tambah Data : memnambahkan data baru ke dalam aplikasi.\n",
        "def tambah_data():\n",
        "    nama = input(\"Masukan nama:\")\n",
        "    umur = input(\"Masukan umur: \")\n",
        "    alamat = input(\"Masukan alamta: \")\n",
        "    data[nama]= {\"umur\": umur, \"alamt\": alamat}\n",
        "    print(\"Data berhasil ditambahkan!\")\n",
        "\n",
        "\n",
        "#Lihat Data : untuk menampilkan data yang ada di dalam aplikasi\n",
        "def lihat_data():\n",
        "    print(\"Daftar data\")\n",
        "    for nama, info in data.items():\n",
        "     print(f\"Nama: {nama}, Umur : {info['umur']}, Alamat: {info['alamat']}\")\n",
        "\n",
        "\n",
        "# Edit data : untuk mengedit data yang ada di dalam aplikasi\n",
        "def edit_data():\n",
        "   nama = input(\"Masukan nama yang ingin diedit: \")\n",
        "   if nama in data():\n",
        "      umut = input(\"Masukan umur baru: \")\n",
        "      alamat = input(\"Maskan alamat baru:\")\n",
        "      data[nama]= {\"umur\": umur, \"alamat\": alamat}\n",
        "      print(\"Data hasil editan: \")\n",
        "   else:\n",
        "      print(\"Data tidak ditemukan!\")\n",
        "\n",
        "\n",
        "# Hapus data : digunakan untuk menghapus data yang tidak diperlukan lagi\n",
        "def hapus_data():\n",
        "   nama = input(\"Masukan nama yang ingin dihapus: \")\n",
        "   if nama in data:\n",
        "      del data[nama]\n",
        "      print(\"data berhasil dihapus!\")\n",
        "\n",
        "# Cari data : digunakan untuk mencari data yang diperlukan\n",
        "def cari_data():\n",
        "   nama = input(\"Masukan nama yang ingin s\\dicari: \")\n",
        "   if nama in data:\n",
        "      print(f\"Nama: {nama}, Umur: {data[nama]['umur'], Alamat: {data[nama]['alamat']}}\")\n",
        "   else:\n",
        "      print(\"DAta tidak di termukan!\")\n",
        "\n",
        "while True:\n",
        "   print(\"Aplikasi Pengolahan Data\")\n",
        "   print(\"1. tambah Data\")\n",
        "   print(\"2. lihat Data\")\n",
        "   print(\"3. edit Data\")\n",
        "   print(\"4. hapus Data\")\n",
        "   print(\"5. cari Data\")\n",
        "   print(\"6. keluar\")\n",
        "   pilihan = input(\"Masukan pilihan: \")\n",
        "   if pilihan == \"1\": tambah_data()\n",
        "   elif pilihan ==\"2\": lihat_data()\n",
        "   elif pilihan ==\"3\": edit_data()\n",
        "   elif pilihan == \"4\": hapus_data()\n",
        "   elif pilihan == \"5\": cari_data()\n",
        "   elif pilihan == \"6\":\n",
        "      print(\"Terima kasih\")\n",
        "      break\n",
        "   else:\n",
        "      print(\"Pilihan tidak valid!\")\n",
        "\n",
        ""
      ],
      "metadata": {
        "colab": {
          "base_uri": "https://localhost:8080/"
        },
        "id": "I5eZ--7Eg2FG",
        "outputId": "a713c6ff-fe31-4328-865e-f822d8c6898b"
      },
      "execution_count": 1,
      "outputs": [
        {
          "output_type": "stream",
          "name": "stdout",
          "text": [
            "Aplikasi Pengolahan Data\n",
            "1. tambah Data\n",
            "2. lihat Data\n",
            "3. edit Data\n",
            "4. hapus Data\n",
            "5. cari Data\n",
            "6. keluar\n",
            "Masukan pilihan: 6\n",
            "Terima kasih\n"
          ]
        }
      ]
    },
    {
      "cell_type": "code",
      "execution_count": null,
      "metadata": {
        "id": "-YgAn5-3gu7-"
      },
      "outputs": [],
      "source": []
    }
  ]
}